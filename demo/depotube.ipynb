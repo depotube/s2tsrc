{
 "cells": [
  {
   "cell_type": "code",
   "execution_count": 10,
   "metadata": {},
   "outputs": [],
   "source": [
    "from google.cloud import speech_v1p1beta1\n",
    "import io"
   ]
  },
  {
   "cell_type": "code",
   "execution_count": 11,
   "metadata": {},
   "outputs": [
    {
     "name": "stdout",
     "output_type": "stream",
     "text": [
      "Transcript: Byron Hollins representing the fun dance along with Natalie lahiji and present is Shay Jensen my client\n",
      "Word: Byron\n",
      "Confidence: 0.9298394322395325\n",
      "Speaker tag: 0\n",
      "Word: Hollins\n",
      "Confidence: 0.7932698130607605\n",
      "Speaker tag: 0\n",
      "Word: representing\n",
      "Confidence: 0.9773789644241333\n",
      "Speaker tag: 0\n",
      "Word: the\n",
      "Confidence: 0.8147670030593872\n",
      "Speaker tag: 0\n",
      "Word: fun\n",
      "Confidence: 0.8894350528717041\n",
      "Speaker tag: 0\n",
      "Word: dance\n",
      "Confidence: 0.9545437693595886\n",
      "Speaker tag: 0\n",
      "Word: along\n",
      "Confidence: 0.9876290559768677\n",
      "Speaker tag: 0\n",
      "Word: with\n",
      "Confidence: 0.9876290559768677\n",
      "Speaker tag: 0\n",
      "Word: Natalie\n",
      "Confidence: 0.9743968844413757\n",
      "Speaker tag: 0\n",
      "Word: lahiji\n",
      "Confidence: 0.7853690981864929\n",
      "Speaker tag: 0\n",
      "Word: and\n",
      "Confidence: 0.9876290559768677\n",
      "Speaker tag: 0\n",
      "Word: present\n",
      "Confidence: 0.911577045917511\n",
      "Speaker tag: 0\n",
      "Word: is\n",
      "Confidence: 0.9876290559768677\n",
      "Speaker tag: 0\n",
      "Word: Shay\n",
      "Confidence: 0.8107502460479736\n",
      "Speaker tag: 0\n",
      "Word: Jensen\n",
      "Confidence: 0.5745304822921753\n",
      "Speaker tag: 0\n",
      "Word: my\n",
      "Confidence: 0.9876290559768677\n",
      "Speaker tag: 0\n",
      "Word: client\n",
      "Confidence: 0.9232861399650574\n",
      "Speaker tag: 0\n"
     ]
    }
   ],
   "source": [
    "local_file_path = \"Shea Jensen-9-17-19-1of3_data/testseq3115to200.wav\"\n",
    "\n",
    "client = speech_v1p1beta1.SpeechClient()\n",
    "\n",
    "enable_word_confidence = True\n",
    "\n",
    "# If enabled, each word in the first alternative of each result will be\n",
    "# tagged with a speaker tag to identify the speaker.\n",
    "enable_speaker_diarization = True\n",
    "enable_wordtime_offsets = True\n",
    "\n",
    "# The language of the supplied audio\n",
    "language_code = \"en-US\"\n",
    "config = {\n",
    "        \"enable_speaker_diarization\": enable_speaker_diarization,\n",
    "        \"enable_word_confidence\": enable_word_confidence,\n",
    "        \"language_code\": language_code,\n",
    "        #\"enableWordTimeOffsets\": enable_wordtime_offsets,\n",
    "}\n",
    "with io.open(local_file_path, \"rb\") as f:\n",
    "    content = f.read()\n",
    "audio = {\"content\": content}\n",
    "\n",
    "response = client.recognize(config, audio)\n",
    "# The first result includes confidence levels per word\n",
    "result = response.results[0]\n",
    "# First alternative is the most probable result\n",
    "alternative = result.alternatives[0]\n",
    "print(u\"Transcript: {}\".format(alternative.transcript))\n",
    "# Print the confidence level of each word\n",
    "for word in alternative.words:\n",
    "    print(u\"Word: {}\".format(word.word))\n",
    "    print(u\"Confidence: {}\".format(word.confidence))\n",
    "    print(u\"Speaker tag: {}\".format(word.speaker_tag))"
   ]
  },
  {
   "cell_type": "code",
   "execution_count": null,
   "metadata": {},
   "outputs": [],
   "source": []
  }
 ],
 "metadata": {
  "kernelspec": {
   "display_name": "Python 3",
   "language": "python",
   "name": "python3"
  },
  "language_info": {
   "codemirror_mode": {
    "name": "ipython",
    "version": 3
   },
   "file_extension": ".py",
   "mimetype": "text/x-python",
   "name": "python",
   "nbconvert_exporter": "python",
   "pygments_lexer": "ipython3",
   "version": "3.7.4"
  }
 },
 "nbformat": 4,
 "nbformat_minor": 2
}
