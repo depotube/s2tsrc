{
 "cells": [
  {
   "cell_type": "code",
   "execution_count": null,
   "metadata": {},
   "outputs": [],
   "source": [
    "%pip install firebase_admin"
   ]
  },
  {
   "cell_type": "code",
   "execution_count": 1,
   "metadata": {},
   "outputs": [],
   "source": [
    "import firebase_admin\n",
    "from firebase_admin import credentials, firestore, initialize_app, storage\n",
    "import io\n",
    "import os\n",
    "from io import StringIO\n",
    "\n",
    "from google.cloud import speech_v1p1beta1"
   ]
  },
  {
   "cell_type": "code",
   "execution_count": 2,
   "metadata": {},
   "outputs": [],
   "source": [
    "os.environ[\"GOOGLE_APPLICATION_CREDENTIALS\"]=\"john-depotube-personal-be14008820a6.json\""
   ]
  },
  {
   "cell_type": "code",
   "execution_count": 3,
   "metadata": {},
   "outputs": [],
   "source": [
    "# Initialize Firestore DB\n",
    "cred = credentials.Certificate('firebasekey.json')\n",
    "default_app = initialize_app(cred)\n",
    "db = firestore.client()\n",
    "sampleCollection_ref = db.collection('sampleCollection')"
   ]
  },
  {
   "cell_type": "code",
   "execution_count": 15,
   "metadata": {},
   "outputs": [],
   "source": [
    "doc_ref = sampleCollection_ref.document(u'Shea Jensen-9-17-19').get()"
   ]
  },
  {
   "cell_type": "code",
   "execution_count": 22,
   "metadata": {},
   "outputs": [
    {
     "data": {
      "text/plain": [
       "'Hollins & Levy'"
      ]
     },
     "execution_count": 22,
     "metadata": {},
     "output_type": "execute_result"
    }
   ],
   "source": [
    "d = doc_ref.to_dict()\n",
    "d['firmName']"
   ]
  },
  {
   "cell_type": "code",
   "execution_count": 23,
   "metadata": {},
   "outputs": [
    {
     "data": {
      "text/plain": [
       "{'firmName': 'Hollins & Levy',\n",
       " 'clientName': 'Shea Jensen',\n",
       " 'date': '09-17-19',\n",
       " 'videoURL': 'https://storage.googleapis.com/john-depotube-personal.appspot.com/testseq3115to200.wav',\n",
       " 'transcriptionURL': 'https://storage.googleapis.com/john-depotube-personal.appspot.com/testseq3115to200.txt'}"
      ]
     },
     "execution_count": 23,
     "metadata": {},
     "output_type": "execute_result"
    }
   ],
   "source": [
    "d"
   ]
  },
  {
   "cell_type": "code",
   "execution_count": 4,
   "metadata": {},
   "outputs": [],
   "source": [
    "# Use custom bucket\n",
    "bucket = storage.bucket('john-depotube-personal.appspot.com')\n",
    "\n",
    "audioPath = \"Shea Jensen-9-17-19-1of3_data/testseq3115to200.wav\" # path to local file being uploaded\n",
    "audioBlob = bucket.blob(\"testseq3115to200.wav\") # create Blob object with name of file in firebase\n",
    "audioBlob.upload_from_filename(audioPath) # do the actual upload"
   ]
  },
  {
   "cell_type": "code",
   "execution_count": null,
   "metadata": {},
   "outputs": [],
   "source": [
    "dir(audioBlob)"
   ]
  },
  {
   "cell_type": "code",
   "execution_count": 6,
   "metadata": {},
   "outputs": [
    {
     "data": {
      "text/plain": [
       "'https://storage.googleapis.com/john-depotube-personal.appspot.com/testseq3115to200.wav'"
      ]
     },
     "execution_count": 6,
     "metadata": {},
     "output_type": "execute_result"
    }
   ],
   "source": [
    "audioBlob.public_url"
   ]
  },
  {
   "cell_type": "code",
   "execution_count": null,
   "metadata": {},
   "outputs": [],
   "source": [
    "# Google Speech to Text needs Google Cloud Storage URI \n",
    "object_uri = \"gs://john-depotube-personal.appspot.com/testseq3115to200.wav\""
   ]
  },
  {
   "cell_type": "code",
   "execution_count": null,
   "metadata": {},
   "outputs": [],
   "source": [
    "# local_file_path = \"Shea Jensen-9-17-19-1of3_data/testseq3115to200.wav\"\n",
    "\n",
    "client = speech_v1p1beta1.SpeechClient()\n",
    "\n",
    "enable_word_confidence = True\n",
    "\n",
    "# If enabled, each word in the first alternative of each result will be\n",
    "# tagged with a speaker tag to identify the speaker.\n",
    "enable_speaker_diarization = True\n",
    "enable_wordtime_offsets = True\n",
    "\n",
    "# The language of the supplied audio\n",
    "language_code = \"en-US\"\n",
    "config = {\n",
    "        \"enable_speaker_diarization\": enable_speaker_diarization,\n",
    "        \"enable_word_confidence\": enable_word_confidence,\n",
    "        \"language_code\": language_code,\n",
    "        #\"enableWordTimeOffsets\": enable_wordtime_offsets,\n",
    "}\n",
    "# with io.open(local_file_path, \"rb\") as f:\n",
    "#    content = f.read()\n",
    "audio = {\"uri\": object_uri}\n",
    "\n",
    "    "
   ]
  },
  {
   "cell_type": "code",
   "execution_count": null,
   "metadata": {},
   "outputs": [],
   "source": [
    "operation = client.long_running_recognize(config, audio)\n",
    "\n",
    "print(u\"Waiting for operation to complete...\")\n",
    "response = operation.result()"
   ]
  },
  {
   "cell_type": "code",
   "execution_count": null,
   "metadata": {},
   "outputs": [],
   "source": [
    "# response = client.recognize(config, audio)\n",
    "# The first result includes confidence levels per word\n",
    "result = response.results[0]\n",
    "# First alternative is the most probable result\n",
    "alternative = result.alternatives[0]\n",
    "print(u\"Transcript: {}\".format(alternative.transcript))\n",
    "# Print the confidence level of each word\n",
    "for word in alternative.words:\n",
    "    print(u\"Word: {}\".format(word.word))\n",
    "    print(u\"Confidence: {}\".format(word.confidence))\n",
    "    print(u\"Speaker tag: {}\".format(word.speaker_tag))\n",
    "    "
   ]
  },
  {
   "cell_type": "code",
   "execution_count": null,
   "metadata": {},
   "outputs": [],
   "source": [
    "# response = client.recognize(config, audio)"
   ]
  },
  {
   "cell_type": "code",
   "execution_count": null,
   "metadata": {},
   "outputs": [],
   "source": [
    "# alternative.words\n",
    "result"
   ]
  },
  {
   "cell_type": "code",
   "execution_count": null,
   "metadata": {},
   "outputs": [],
   "source": [
    "\n",
    "\n",
    "soutput = StringIO()\n",
    "for i in range(0, response.results.__len__()-1):\n",
    "    alternative = response.results[i].alternatives[0]\n",
    "    soutput.write(alternative.transcript + '\\n')\n",
    "    print (alternative.transcript)\n",
    "\n",
    "# print soutput.getvalue()\n",
    "\n",
    "transcriptionBlob = bucket.blob(\"testseq3115to200.txt\") # name of file in firebase\n",
    "transcriptionBlob.upload_from_string(soutput.getvalue()) # do the actual upload"
   ]
  },
  {
   "cell_type": "code",
   "execution_count": null,
   "metadata": {},
   "outputs": [],
   "source": [
    "transcriptionBlob = bucket.blob(\"testseq3115to200.txt\") # name of file in firebase\n",
    "transcriptionBlob.upload_from_string(soutput.getvalue()) # do the actual upload"
   ]
  },
  {
   "cell_type": "code",
   "execution_count": null,
   "metadata": {},
   "outputs": [],
   "source": [
    "data = {\n",
    "\n",
    "    u'firmName': u'Hollins & Levy',\n",
    "    u'clientName': u'Shea Jensen',\n",
    "    u'date': '09-17-19', # datetime.datetime.now(),\n",
    "    u'videoURL': audioBlob.public_url,\n",
    "    u'transcriptionURL': transcriptionBlob.public_url,\n",
    "}\n",
    "\n",
    "sampleCollection_ref.document(u'Shea Jensen-9-17-19').set(data)"
   ]
  },
  {
   "cell_type": "code",
   "execution_count": null,
   "metadata": {},
   "outputs": [],
   "source": []
  }
 ],
 "metadata": {
  "kernelspec": {
   "display_name": "Python 3",
   "language": "python",
   "name": "python3"
  },
  "language_info": {
   "codemirror_mode": {
    "name": "ipython",
    "version": 3
   },
   "file_extension": ".py",
   "mimetype": "text/x-python",
   "name": "python",
   "nbconvert_exporter": "python",
   "pygments_lexer": "ipython3",
   "version": "3.7.4"
  }
 },
 "nbformat": 4,
 "nbformat_minor": 2
}
