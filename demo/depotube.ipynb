{
 "cells": [
  {
   "cell_type": "code",
   "execution_count": null,
   "metadata": {},
   "outputs": [],
   "source": [
    "%pip install firebase_admin"
   ]
  },
  {
   "cell_type": "code",
   "execution_count": 1,
   "metadata": {},
   "outputs": [],
   "source": [
    "import firebase_admin\n",
    "from firebase_admin import credentials, firestore, initialize_app, storage\n",
    "import io\n",
    "import os\n",
    "from io import StringIO\n",
    "\n",
    "from google.cloud import speech_v1p1beta1"
   ]
  },
  {
   "cell_type": "code",
   "execution_count": 3,
   "metadata": {},
   "outputs": [],
   "source": [
    "os.environ[\"GOOGLE_APPLICATION_CREDENTIALS\"]=\"john-depotube-personal-be14008820a6.json\""
   ]
  },
  {
   "cell_type": "code",
   "execution_count": 4,
   "metadata": {},
   "outputs": [],
   "source": [
    "# Initialize Firestore DB\n",
    "cred = credentials.Certificate('firebasekey.json')\n",
    "default_app = initialize_app(cred)\n",
    "db = firestore.client()\n",
    "sampleCollection_ref = db.collection('sampleCollection')"
   ]
  },
  {
   "cell_type": "code",
   "execution_count": 5,
   "metadata": {},
   "outputs": [],
   "source": [
    "doc_ref = sampleCollection_ref.document(u'Shea Jensen-9-17-19').get()"
   ]
  },
  {
   "cell_type": "code",
   "execution_count": 6,
   "metadata": {},
   "outputs": [
    {
     "data": {
      "text/plain": [
       "'Hollins & Levy'"
      ]
     },
     "execution_count": 6,
     "metadata": {},
     "output_type": "execute_result"
    }
   ],
   "source": [
    "d = doc_ref.to_dict()\n",
    "d['firmName']"
   ]
  },
  {
   "cell_type": "code",
   "execution_count": 22,
   "metadata": {
    "scrolled": true
   },
   "outputs": [
    {
     "name": "stdout",
     "output_type": "stream",
     "text": [
      "Collecting requests_toolbelt\n",
      "  Downloading https://files.pythonhosted.org/packages/60/ef/7681134338fc097acef8d9b2f8abe0458e4d87559c689a8c306d0957ece5/requests_toolbelt-0.9.1-py2.py3-none-any.whl (54kB)\n",
      "Requirement already satisfied: requests<3.0.0,>=2.0.1 in c:\\users\\jcgra\\appdata\\local\\continuum\\anaconda3\\lib\\site-packages (from requests_toolbelt) (2.22.0)\n",
      "Requirement already satisfied: urllib3!=1.25.0,!=1.25.1,<1.26,>=1.21.1 in c:\\users\\jcgra\\appdata\\local\\continuum\\anaconda3\\lib\\site-packages (from requests<3.0.0,>=2.0.1->requests_toolbelt) (1.24.2)\n",
      "Requirement already satisfied: idna<2.9,>=2.5 in c:\\users\\jcgra\\appdata\\local\\continuum\\anaconda3\\lib\\site-packages (from requests<3.0.0,>=2.0.1->requests_toolbelt) (2.8)\n",
      "Requirement already satisfied: chardet<3.1.0,>=3.0.2 in c:\\users\\jcgra\\appdata\\local\\continuum\\anaconda3\\lib\\site-packages (from requests<3.0.0,>=2.0.1->requests_toolbelt) (3.0.4)\n",
      "Requirement already satisfied: certifi>=2017.4.17 in c:\\users\\jcgra\\appdata\\local\\continuum\\anaconda3\\lib\\site-packages (from requests<3.0.0,>=2.0.1->requests_toolbelt) (2019.9.11)\n",
      "Installing collected packages: requests-toolbelt\n",
      "Successfully installed requests-toolbelt-0.9.1\n",
      "Note: you may need to restart the kernel to use updated packages.\n"
     ]
    }
   ],
   "source": [
    "%pip install requests_toolbelt"
   ]
  },
  {
   "cell_type": "code",
   "execution_count": 27,
   "metadata": {},
   "outputs": [],
   "source": [
    "import firebase\n",
    "\n",
    "stor = firebase.storage"
   ]
  },
  {
   "cell_type": "code",
   "execution_count": 30,
   "metadata": {},
   "outputs": [
    {
     "data": {
      "text/plain": [
       "['Blob',\n",
       " 'Bucket',\n",
       " 'BucketACL',\n",
       " 'DefaultObjectACL',\n",
       " 'Iterator',\n",
       " 'NotFound',\n",
       " '_BlobIterator',\n",
       " '_PropertyMixin',\n",
       " '__builtins__',\n",
       " '__cached__',\n",
       " '__doc__',\n",
       " '__file__',\n",
       " '__loader__',\n",
       " '__name__',\n",
       " '__package__',\n",
       " '__spec__',\n",
       " '_rfc3339_to_datetime',\n",
       " '_scalar_property',\n",
       " 'copy',\n",
       " 'six']"
      ]
     },
     "execution_count": 30,
     "metadata": {},
     "output_type": "execute_result"
    }
   ],
   "source": [
    "dir(stor.bucket)"
   ]
  },
  {
   "cell_type": "code",
   "execution_count": 24,
   "metadata": {},
   "outputs": [
    {
     "ename": "TypeError",
     "evalue": "'module' object is not callable",
     "output_type": "error",
     "traceback": [
      "\u001b[1;31m---------------------------------------------------------------------------\u001b[0m",
      "\u001b[1;31mTypeError\u001b[0m                                 Traceback (most recent call last)",
      "\u001b[1;32m<ipython-input-24-904569198c9d>\u001b[0m in \u001b[0;36m<module>\u001b[1;34m\u001b[0m\n\u001b[0;32m      1\u001b[0m \u001b[1;32mimport\u001b[0m \u001b[0mfirebase\u001b[0m\u001b[1;33m\u001b[0m\u001b[1;33m\u001b[0m\u001b[0m\n\u001b[0;32m      2\u001b[0m \u001b[1;32mimport\u001b[0m \u001b[0mpython_jwt\u001b[0m\u001b[1;33m\u001b[0m\u001b[1;33m\u001b[0m\u001b[0m\n\u001b[1;32m----> 3\u001b[1;33m \u001b[0mstor\u001b[0m \u001b[1;33m=\u001b[0m \u001b[0mfirebase\u001b[0m\u001b[1;33m.\u001b[0m\u001b[0mstorage\u001b[0m\u001b[1;33m(\u001b[0m\u001b[1;33m)\u001b[0m\u001b[1;33m\u001b[0m\u001b[1;33m\u001b[0m\u001b[0m\n\u001b[0m\u001b[0;32m      4\u001b[0m \u001b[0mpathReference\u001b[0m \u001b[1;33m=\u001b[0m \u001b[0mstor\u001b[0m\u001b[1;33m.\u001b[0m\u001b[0mref\u001b[0m\u001b[1;33m(\u001b[0m\u001b[1;34m'testseq3114to200.txt'\u001b[0m\u001b[1;33m)\u001b[0m\u001b[1;33m\u001b[0m\u001b[1;33m\u001b[0m\u001b[0m\n",
      "\u001b[1;31mTypeError\u001b[0m: 'module' object is not callable"
     ]
    }
   ],
   "source": [
    "import firebase\n",
    "import python_jwt\n",
    "stor = firebase.storage()\n",
    "pathReference = stor.ref('testseq3114to200.txt')"
   ]
  },
  {
   "cell_type": "code",
   "execution_count": 7,
   "metadata": {},
   "outputs": [
    {
     "data": {
      "text/plain": [
       "{'firmName': 'Hollins & Levy',\n",
       " 'clientName': 'Shea Jensen',\n",
       " 'date': '09-17-19',\n",
       " 'videoURL': 'https://storage.googleapis.com/john-depotube-personal.appspot.com/testseq3115to200.wav',\n",
       " 'transcriptionURL': 'https://storage.googleapis.com/john-depotube-personal.appspot.com/testseq3115to200.txt'}"
      ]
     },
     "execution_count": 7,
     "metadata": {},
     "output_type": "execute_result"
    }
   ],
   "source": [
    "d"
   ]
  },
  {
   "cell_type": "code",
   "execution_count": 31,
   "metadata": {},
   "outputs": [],
   "source": [
    "# Use custom bucket\n",
    "bucket = storage.bucket('john-depotube-personal.appspot.com')\n",
    "\n",
    "audioPath = \"Shea Jensen-9-17-19-1of3_data/testseq3115to200.wav\" # path to local file being uploaded\n",
    "audioBlob = bucket.blob(\"testseq3115to200.wav\") # create Blob object with name of file in firebase\n",
    "audioBlob.upload_from_filename(audioPath) # do the actual upload"
   ]
  },
  {
   "cell_type": "code",
   "execution_count": 36,
   "metadata": {},
   "outputs": [],
   "source": [
    "import time\n",
    "\n",
    "blob_expiry = int(time.time() + (60 * 60 * 24 * 7)) # set for 7 days\n",
    "signedURL = audioBlob.generate_signed_url(expiration=blob_expiry)"
   ]
  },
  {
   "cell_type": "code",
   "execution_count": 37,
   "metadata": {},
   "outputs": [
    {
     "data": {
      "text/plain": [
       "'https://storage.googleapis.com/john-depotube-personal.appspot.com/testseq3115to200.wav?Expires=1594242455&GoogleAccessId=firebase-adminsdk-glkfa%40john-depotube-personal.iam.gserviceaccount.com&Signature=NuXCjdmDDfTZAuLrD6x4Me9FnIy1MFHjW2axjUCEdrl%2F0uGsP6bAZ9NASOOL9kvKDF8aWa%2FLOAkjW1S490MetkLRrrclV49mY5aje1vKDKEreT%2FmC4S%2F%2FuWCEGpxKpUWZ%2FJG0vHuRWSHPoPp1AJXC%2BJCjBcOeNr2aSP%2Fidbiy60RN8wwT6OBSjwIjuGzXfSw4mJoogIFc0OuI3gmAHTiRSEjgjeGToiuIjfZSSN95Lq0ZZNssbRk%2B%2BYSHoy9FQi1Yl431FevkMwZcTa6ZRP%2FkHEOYxezyGOli34EXa%2BsrH0UwhQt5nqBvn%2FmuZVrxWH24ieDekxfhjRoqOlFQt3XWw%3D%3D'"
      ]
     },
     "execution_count": 37,
     "metadata": {},
     "output_type": "execute_result"
    }
   ],
   "source": [
    "signedURL"
   ]
  },
  {
   "cell_type": "code",
   "execution_count": 6,
   "metadata": {},
   "outputs": [
    {
     "data": {
      "text/plain": [
       "'https://storage.googleapis.com/john-depotube-personal.appspot.com/testseq3115to200.wav'"
      ]
     },
     "execution_count": 6,
     "metadata": {},
     "output_type": "execute_result"
    }
   ],
   "source": [
    "audioBlob.public_url"
   ]
  },
  {
   "cell_type": "code",
   "execution_count": null,
   "metadata": {},
   "outputs": [],
   "source": [
    "# Google Speech to Text needs Google Cloud Storage URI \n",
    "object_uri = \"gs://john-depotube-personal.appspot.com/testseq3115to200.wav\""
   ]
  },
  {
   "cell_type": "code",
   "execution_count": null,
   "metadata": {},
   "outputs": [],
   "source": [
    "# local_file_path = \"Shea Jensen-9-17-19-1of3_data/testseq3115to200.wav\"\n",
    "\n",
    "client = speech_v1p1beta1.SpeechClient()\n",
    "\n",
    "enable_word_confidence = True\n",
    "\n",
    "# If enabled, each word in the first alternative of each result will be\n",
    "# tagged with a speaker tag to identify the speaker.\n",
    "enable_speaker_diarization = True\n",
    "enable_wordtime_offsets = True\n",
    "\n",
    "# The language of the supplied audio\n",
    "language_code = \"en-US\"\n",
    "config = {\n",
    "        \"enable_speaker_diarization\": enable_speaker_diarization,\n",
    "        \"enable_word_confidence\": enable_word_confidence,\n",
    "        \"language_code\": language_code,\n",
    "        #\"enableWordTimeOffsets\": enable_wordtime_offsets,\n",
    "}\n",
    "# with io.open(local_file_path, \"rb\") as f:\n",
    "#    content = f.read()\n",
    "audio = {\"uri\": object_uri}\n",
    "\n",
    "    "
   ]
  },
  {
   "cell_type": "code",
   "execution_count": null,
   "metadata": {},
   "outputs": [],
   "source": [
    "operation = client.long_running_recognize(config, audio)\n",
    "\n",
    "print(u\"Waiting for operation to complete...\")\n",
    "response = operation.result()"
   ]
  },
  {
   "cell_type": "code",
   "execution_count": null,
   "metadata": {},
   "outputs": [],
   "source": [
    "# response = client.recognize(config, audio)\n",
    "# The first result includes confidence levels per word\n",
    "result = response.results[0]\n",
    "# First alternative is the most probable result\n",
    "alternative = result.alternatives[0]\n",
    "print(u\"Transcript: {}\".format(alternative.transcript))\n",
    "# Print the confidence level of each word\n",
    "for word in alternative.words:\n",
    "    print(u\"Word: {}\".format(word.word))\n",
    "    print(u\"Confidence: {}\".format(word.confidence))\n",
    "    print(u\"Speaker tag: {}\".format(word.speaker_tag))\n",
    "    "
   ]
  },
  {
   "cell_type": "code",
   "execution_count": null,
   "metadata": {},
   "outputs": [],
   "source": [
    "# response = client.recognize(config, audio)"
   ]
  },
  {
   "cell_type": "code",
   "execution_count": null,
   "metadata": {},
   "outputs": [],
   "source": [
    "# alternative.words\n",
    "result"
   ]
  },
  {
   "cell_type": "code",
   "execution_count": null,
   "metadata": {},
   "outputs": [],
   "source": [
    "\n",
    "\n",
    "soutput = StringIO()\n",
    "for i in range(0, response.results.__len__()-1):\n",
    "    alternative = response.results[i].alternatives[0]\n",
    "    soutput.write(alternative.transcript + '\\n')\n",
    "    print (alternative.transcript)\n",
    "\n",
    "# print soutput.getvalue()\n",
    "\n",
    "transcriptionBlob = bucket.blob(\"testseq3115to200.txt\") # name of file in firebase\n",
    "transcriptionBlob.upload_from_string(soutput.getvalue()) # do the actual upload"
   ]
  },
  {
   "cell_type": "code",
   "execution_count": null,
   "metadata": {},
   "outputs": [],
   "source": [
    "transcriptionBlob = bucket.blob(\"testseq3115to200.txt\") # name of file in firebase\n",
    "transcriptionBlob.upload_from_string(soutput.getvalue()) # do the actual upload"
   ]
  },
  {
   "cell_type": "code",
   "execution_count": null,
   "metadata": {},
   "outputs": [],
   "source": [
    "data = {\n",
    "\n",
    "    u'firmName': u'Hollins & Levy',\n",
    "    u'clientName': u'Shea Jensen',\n",
    "    u'date': '09-17-19', # datetime.datetime.now(),\n",
    "    u'videoURL': audioBlob.public_url,\n",
    "    u'transcriptionURL': transcriptionBlob.public_url,\n",
    "}\n",
    "\n",
    "sampleCollection_ref.document(u'Shea Jensen-9-17-19').set(data)"
   ]
  },
  {
   "cell_type": "code",
   "execution_count": null,
   "metadata": {},
   "outputs": [],
   "source": []
  }
 ],
 "metadata": {
  "kernelspec": {
   "display_name": "Python 3",
   "language": "python",
   "name": "python3"
  },
  "language_info": {
   "codemirror_mode": {
    "name": "ipython",
    "version": 3
   },
   "file_extension": ".py",
   "mimetype": "text/x-python",
   "name": "python",
   "nbconvert_exporter": "python",
   "pygments_lexer": "ipython3",
   "version": "3.7.4"
  }
 },
 "nbformat": 4,
 "nbformat_minor": 2
}
